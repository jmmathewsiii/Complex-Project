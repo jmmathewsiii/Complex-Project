{
 "cells": [
  {
   "cell_type": "code",
   "execution_count": 15,
   "id": "fd2dec60-51b5-498e-8d70-fd215d3c4949",
   "metadata": {},
   "outputs": [],
   "source": [
    "import numpy as np\n",
    "import matplotlib.pyplot as plt\n",
    "import random as rand\n",
    "\n",
    "class complex:\n",
    "    def __init__(self,x,y):\n",
    "        self.x=x\n",
    "        self.y=y\n",
    "        self.rad=np.sqrt(x**2+y**2)\n",
    "        self.arg=np.arctan2(x,y)\n",
    "\n",
    "    def add(self,a):\n",
    "        return complex(self.x + a.x, self.y + a.y)\n",
    "\n",
    "    def multiply(self,a):\n",
    "        return complex(self.x*a.x-self.y*a.y,self.x*a.y+self.y*a.x)\n",
    "\n",
    "    def square(self):\n",
    "        return self.multiply(self)\n",
    "\n",
    "    def reciprocal(self):\n",
    "        return complex(self.x/(self.x**2+self.y**2),-1*self.y/(self.x**2+self.y**2))\n",
    "\n",
    "    def exponential(self):\n",
    "        r=np.exp(self.x)\n",
    "        arg=self.y\n",
    "        return complex(r*np.sin(arg),r*np.cos(arg))\n",
    "\n",
    "    def log(self,bc=0):\n",
    "        bc1=bc\n",
    "        bc2=bc+2*np.pi\n",
    "        arg=self.arg\n",
    "        while arg < bc1:\n",
    "            arg+=2*np.pi\n",
    "        while arg > bc2:\n",
    "            arg-=2*np.pi\n",
    "        return complex(np.log(self.rad),arg)\n",
    "\n",
    "    def cra(self):\n",
    "        return cra(self.rad,self.arg)\n",
    "\n",
    "    def expcra(self):\n",
    "        return cra(np.exp(self.x),self.y)\n",
    "\n",
    "class crs:\n",
    "    def __init__(self,rad,arg,branch):\n",
    "        self.rad=rad\n",
    "        self.arg=arg\n",
    "        self.branch=branch\n",
    "        self.x=rad*np.cos(arg)\n",
    "        self.y=rad*np.sin(arg)\n",
    "\n",
    "    def cra(self):\n",
    "        return cra(self.rad,self.arg+2*np.pi*self.branch)\n",
    "\n",
    "class cra:\n",
    "    def __init__(self,rad,arg):\n",
    "        self.rad=rad\n",
    "        self.arg=arg\n",
    "        self.x=rad*np.cos(arg)\n",
    "        self.y=rad*np.sin(arg)\n",
    "\n",
    "    def log(self):\n",
    "        return complex(np.log(self.rad),self.arg)\n",
    "\n",
    "    def exp(self):\n",
    "        return cra(np.exp(self.x),self.y)\n",
    "\n",
    "    def crs(self):\n",
    "        a=self.arg % (2*np.pi)\n",
    "        return crs(self.rad,a,round(((self.arg-a)/(2*np.pi))))\n",
    "\n",
    "    def complex(self):\n",
    "        return complex(self.r*np.cos(self.arg),self.r*np.sin(self.arg))\n",
    "\n",
    "#Cra stands for Complex-radius-argument. It defines a class for complex numbers in polar coordinates. Notably, the argument\n",
    "#can hold any value, as there is not a single sheet of the Riemann surface specified. For example, cra(1,2pi) is distinct from\n",
    "#cra(1,4pi). This will allow us to keep track of which branch we're operating on\n",
    "\n",
    "constlist = [0,1,-3,2,5,6,10,4,0,0,5,3,1,0]\n",
    "\n",
    "startlist=[]\n",
    "for i in range(2):\n",
    "    for j in range(2):\n",
    "        for k in range(4):\n",
    "            if i % 2 == 0:\n",
    "                startlist.append(crs((i+1)*(j+2),np.pi/4+np.pi/2*j,k))\n",
    "            else:\n",
    "                startlist.append(crs((i+1)*(j+2),np.pi/2*(j+1),k))\n",
    "list1=[i.x for i in startlist if i.branch==0]\n",
    "list2=[i.y for i in startlist if i.branch==0]\n",
    "\n",
    "coordinates = {}\n",
    "\n",
    "for i in range(16):\n",
    "    binary = format(i, '04b')\n",
    "    coordinates[binary] = startlist[i]\n",
    "\n",
    "reverse_coordinates = {v: k for k, v in coordinates.items()}\n",
    "\n",
    "def toBinary(message):\n",
    "    binary = ''.join(format(ord(i), '08b') for i in message)\n",
    "\n",
    "    return binary\n",
    "\n",
    "def binaryToList(number):\n",
    "    length = len(number)\n",
    "    nums = []\n",
    "\n",
    "    for i in range(int(length / 4)):\n",
    "        nums.append(number[i*4:(i*4)+4])\n",
    "    \n",
    "    return nums\n",
    "\n",
    "def listToComplex(nums):\n",
    "    cnums = []\n",
    "    for num in nums:\n",
    "        cnums.append(coordinates[num])\n",
    "\n",
    "    return cnums\n",
    "    \n",
    "def printCoordinates(nums):\n",
    "    for i in nums:\n",
    "        r = str(i.rad)\n",
    "        t = str(i.arg)\n",
    "        b = str(i.branch)\n",
    "        print(\"(\" + r + \", \" + t + \", \" + b + \")\")\n",
    "\n",
    "def Parker_Scramble(crslist,constlist):\n",
    "    cartesianlist = [(i.cra()).log() for i in crslist]\n",
    "    #Takes the logarithm of each point in our list of points, factoring in which branch they lie on.\n",
    "\n",
    "    loglist = [(i.add(complex(constlist[0],constlist[1]))).log() for i in cartesianlist]\n",
    "    #This step and all of the following loglist steps add two of the constants to each element of the list and\n",
    "    #then take the logarighm of them\n",
    "\n",
    "    loglist2= [(i.add(complex(constlist[2],constlist[3]))).log() for i in loglist]\n",
    "    loglist3= [(i.add(complex(constlist[4],constlist[5]))).log(bc=rand.randint(0,10)*200*np.pi) for i in loglist2]\n",
    "    #The branch specification here randomizes which branch the log function operates over in order to spread out\n",
    "    #the points more\n",
    "\n",
    "    loglist4= [(i.add(complex(constlist[6],constlist[7]))).log(bc=rand.randint(0,100)*200*np.pi) for i in loglist3]\n",
    "    loglist5= [(i.add(complex(constlist[8],constlist[9]))).log(bc=rand.randint(0,4)*2*np.pi) for i in loglist4]\n",
    "    radexpandlist=  [complex((i.rad+1)*np.cos(i.arg),(i.rad+1)*np.sin(i.arg)) for i in loglist5]\n",
    "    #increases the radius of each of the complex points by one, so that none of them fall inside the unit circle\n",
    "\n",
    "    inverselist=[(i).reciprocal() for i in radexpandlist]\n",
    "    #Takes the reciprocal of all of the points, so that all of them are inside the unit circle\n",
    "\n",
    "    preexplist=[(i.add(complex(0.5,1))) for i in inverselist]\n",
    "    #Shifts the points so that none of them fall near the origin, by Rouche's theorem\n",
    "\n",
    "    explist = [((i.add(complex(constlist[8],constlist[9])))).expcra() for i in preexplist]\n",
    "    finallist=[i.crs() for i in explist]\n",
    "\n",
    "    return finallist\n",
    "\n",
    "def Reverse_Parker_Scramble(crslist,constlist):\n",
    "    explist=[i.cra() for i in crslist]\n",
    "\n",
    "    preexplist=[(i.log()).add(complex(-1*constlist[8],-1*constlist[9])) for i in explist]\n",
    "\n",
    "    inverselist=[i.add(complex(-0.5,-1)) for i in preexplist]\n",
    "\n",
    "    radexpandlist=[i.reciprocal() for i in inverselist]\n",
    "\n",
    "    loglist5=[complex((i.rad-1)*np.cos(i.arg),(i.rad-1)*np.sin(i.arg)) for i in radexpandlist]\n",
    "    loglist4=[(i.exponential()).add(complex(-1*constlist[8],-1*constlist[9])) for i in loglist5]\n",
    "    loglist3=[(i.exponential()).add(complex(-1*constlist[6],-1*constlist[7])) for i in loglist4]\n",
    "    loglist2=[(i.exponential()).add(complex(-1*constlist[4],-1*constlist[5])) for i in loglist3]\n",
    "    loglist =[(i.exponential()).add(complex(-1*constlist[2],-1*constlist[3])) for i in loglist2]\n",
    "\n",
    "    cartesianlist=[(i.exponential()).add(complex(-1*constlist[0],-1*constlist[1])) for i in loglist]\n",
    "\n",
    "    finallist=[(i.expcra()).crs() for i in cartesianlist]\n",
    "\n",
    "    return finallist\n",
    "\n",
    "def approximate(cnums):\n",
    "    new_nums = []\n",
    "  \n",
    "    for cnum in cnums:\n",
    "        r = int(round(cnum.rad))\n",
    "\n",
    "        if (r == 2):\n",
    "            new_nums.append(startlist[cnum.branch])\n",
    "        elif (r == 3):\n",
    "            new_nums.append(startlist[4 + cnum.branch])\n",
    "        elif (r == 4):\n",
    "            new_nums.append(startlist[8 + cnum.branch])\n",
    "        elif (r == 6):\n",
    "            new_nums.append(startlist[12 + cnum.branch])\n",
    "\n",
    "    return new_nums\n",
    "\n",
    "def complexToList(cnums):\n",
    "    nums = []\n",
    "    for cnum in cnums:\n",
    "        nums.append(reverse_coordinates[cnum])\n",
    "    \n",
    "    return nums\n",
    "\n",
    "def listToBinary(nums):\n",
    "    bin_str = \"\"\n",
    "    for n in nums:\n",
    "        bin_str += n\n",
    "    \n",
    "    return bin_str\n",
    "    \n",
    "def binaryToMessage(bin_str):\n",
    "    dec_nums = []\n",
    "\n",
    "    for i in range(int(len(bin_str) / 8)):\n",
    "        dec_nums.append(int(bin_str[i * 8: (i*8) + 8], 2))\n",
    "\n",
    "    chars = []\n",
    "    for num in dec_nums:\n",
    "        chars.append(chr(num))\n",
    "\n",
    "    m = \"\"\n",
    "    for c in chars:\n",
    "        m += c\n",
    "\n",
    "    return m"
   ]
  },
  {
   "cell_type": "code",
   "execution_count": 50,
   "id": "ff599d99-e76a-4e2e-80cb-619999820f36",
   "metadata": {},
   "outputs": [
    {
     "name": "stdin",
     "output_type": "stream",
     "text": [
      "Enter a message to transmit:\n",
      " Hello\n"
     ]
    },
    {
     "name": "stdout",
     "output_type": "stream",
     "text": [
      "0100100001100101011011000110110001101111\n"
     ]
    }
   ],
   "source": [
    "message = input(\"Enter a message to transmit:\\n\")\n",
    "\n",
    "binary_message = toBinary(message)\n",
    "print(binary_message)"
   ]
  },
  {
   "cell_type": "code",
   "execution_count": 51,
   "id": "b3813b5c-5051-43be-b7d4-6fb13117330a",
   "metadata": {},
   "outputs": [
    {
     "name": "stdout",
     "output_type": "stream",
     "text": [
      "0100\n",
      "1000\n",
      "0110\n",
      "0101\n",
      "0110\n",
      "1100\n",
      "0110\n",
      "1100\n",
      "0110\n",
      "1111\n"
     ]
    }
   ],
   "source": [
    "message_list = binaryToList(binary_message)\n",
    "for m in message_list:\n",
    "    print(m)"
   ]
  },
  {
   "cell_type": "code",
   "execution_count": 58,
   "id": "dd14a484-dd14-476c-8ba6-3136abc40aea",
   "metadata": {},
   "outputs": [
    {
     "name": "stdout",
     "output_type": "stream",
     "text": [
      "(3, 2.356194490192345, 0)\n",
      "(4, 1.5707963267948966, 0)\n",
      "(3, 2.356194490192345, 2)\n",
      "(3, 2.356194490192345, 1)\n",
      "(3, 2.356194490192345, 2)\n",
      "(6, 3.141592653589793, 0)\n",
      "(3, 2.356194490192345, 2)\n",
      "(6, 3.141592653589793, 0)\n",
      "(3, 2.356194490192345, 2)\n",
      "(6, 3.141592653589793, 3)\n"
     ]
    },
    {
     "data": {
      "image/png": "[encoded data removed]",
      "text/plain": [
       "<Figure size 640x480 with 1 Axes>"
      ]
     },
     "metadata": {},
     "output_type": "display_data"
    }
   ],
   "source": [
    "colorlist=['red','green','blue','violet']\n",
    "\n",
    "complex_list = listToComplex(message_list)\n",
    "printCoordinates(complex_list)\n",
    "xlist = [c.x for c in complex_list]\n",
    "ylist = [c.y for c in complex_list]\n",
    "for i in range(int(len(complex_list))):\n",
    "    plt.plot(xlist[i], ylist[i], 'o', c = colorlist[(i % 4)])\n",
    "plt.xlim([-7, 7])\n",
    "plt.ylim([-7, 7])\n",
    "plt.show()"
   ]
  },
  {
   "cell_type": "code",
   "execution_count": 59,
   "id": "d599ce63-2950-452b-a87a-9fc63bb9450f",
   "metadata": {},
   "outputs": [
    {
     "name": "stdout",
     "output_type": "stream",
     "text": [
      "(1.7248938838423469, 0.9633252584951066, 0)\n",
      "(1.709256477644184, 0.9365966029627417, 0)\n",
      "(1.7308730754952488, 0.9643420898580743, 0)\n",
      "(1.7198616221614467, 0.9335978306961682, 0)\n",
      "(1.7276710269118043, 0.9637513465725073, 0)\n",
      "(1.7027256520921965, 0.9859111663291159, 0)\n",
      "(1.6487334863129106, 0.9026883465948541, 0)\n",
      "(1.6487256282749185, 0.9109308910128616, 0)\n",
      "(1.7136045570445257, 0.9352685822618952, 0)\n",
      "(1.7101207731912946, 0.936321336363392, 0)\n"
     ]
    },
    {
     "data": {
      "image/png": "[encoded data removed]",
      "text/plain": [
       "<Figure size 640x480 with 1 Axes>"
      ]
     },
     "metadata": {},
     "output_type": "display_data"
    }
   ],
   "source": [
    "encrypted = Parker_Scramble(complex_list, constlist)\n",
    "printCoordinates(encrypted)\n",
    "xlist = [c.x for c in encrypted]\n",
    "ylist = [c.y for c in encrypted]\n",
    "for i in range(int(len(encrypted))):\n",
    "    plt.plot(xlist[i], ylist[i], 'o', c = colorlist[i % 4])\n",
    "plt.xlim([-7, 7])\n",
    "plt.ylim([-7, 7])\n",
    "plt.show()"
   ]
  },
  {
   "cell_type": "code",
   "execution_count": 60,
   "id": "caac3952-3c6b-43b3-9be6-969d36d67c25",
   "metadata": {},
   "outputs": [
    {
     "name": "stdout",
     "output_type": "stream",
     "text": [
      "(3.0062559450765494, 2.3564947662527698, 0)\n",
      "(3.996627403780247, 1.5708630288096463, 0)\n",
      "(3.0014381332067495, 2.3564474981011916, 2)\n",
      "(3.001836274752374, 2.356698882097863, 1)\n",
      "(3.001382115039492, 2.356522430546411, 2)\n",
      "(5.969230879324914, 3.1392934328873325, 0)\n",
      "(3.000282714329146, 2.356252158544386, 2)\n",
      "(6.008891367451399, 3.141857173484694, 0)\n",
      "(3.0010422977757423, 2.3572393063589647, 2)\n",
      "(5.920401714575488, 3.1289040138337043, 3)\n"
     ]
    },
    {
     "data": {
      "image/png": "[encoded data removed]",
      "text/plain": [
       "<Figure size 640x480 with 1 Axes>"
      ]
     },
     "metadata": {},
     "output_type": "display_data"
    }
   ],
   "source": [
    "decrypted = Reverse_Parker_Scramble(encrypted, constlist)\n",
    "printCoordinates(decrypted)\n",
    "xlist = [c.x for c in decrypted]\n",
    "ylist = [c.y for c in decrypted]\n",
    "for i in range(int(len(decrypted))):\n",
    "    plt.plot(xlist[i], ylist[i], 'o', c = colorlist[i % 4])\n",
    "plt.xlim([-7, 7])\n",
    "plt.ylim([-7, 7])\n",
    "plt.show()"
   ]
  },
  {
   "cell_type": "code",
   "execution_count": 62,
   "id": "c17f3df1-85bb-4ec1-882e-03e9c09048a7",
   "metadata": {},
   "outputs": [
    {
     "name": "stdout",
     "output_type": "stream",
     "text": [
      "(3, 2.356194490192345, 0)\n",
      "(4, 1.5707963267948966, 0)\n",
      "(3, 2.356194490192345, 2)\n",
      "(3, 2.356194490192345, 1)\n",
      "(3, 2.356194490192345, 2)\n",
      "(6, 3.141592653589793, 0)\n",
      "(3, 2.356194490192345, 2)\n",
      "(6, 3.141592653589793, 0)\n",
      "(3, 2.356194490192345, 2)\n",
      "(6, 3.141592653589793, 3)\n"
     ]
    },
    {
     "data": {
      "image/png": "[encoded data removed]",
      "text/plain": [
       "<Figure size 640x480 with 1 Axes>"
      ]
     },
     "metadata": {},
     "output_type": "display_data"
    }
   ],
   "source": [
    "approximated = approximate(decrypted)\n",
    "printCoordinates(approximated)\n",
    "xlist = [c.x for c in approximated]\n",
    "ylist = [c.y for c in approximated]\n",
    "for i in range(int(len(approximated))):\n",
    "    plt.plot(xlist[i], ylist[i], 'o', c = colorlist[i % 4])\n",
    "plt.xlim([-7, 7])\n",
    "plt.ylim([-7, 7])\n",
    "plt.show()"
   ]
  },
  {
   "cell_type": "code",
   "execution_count": 63,
   "id": "18bf6c30-90f6-458b-81cd-06c4fcaa5ad2",
   "metadata": {},
   "outputs": [
    {
     "name": "stdout",
     "output_type": "stream",
     "text": [
      "0100\n",
      "1000\n",
      "0110\n",
      "0101\n",
      "0110\n",
      "1100\n",
      "0110\n",
      "1100\n",
      "0110\n",
      "1111\n"
     ]
    }
   ],
   "source": [
    "decoded = complexToList(approximated)\n",
    "for m in decoded:\n",
    "    print(m)"
   ]
  },
  {
   "cell_type": "code",
   "execution_count": 64,
   "id": "22fd8b4b-c599-40e2-8789-cc8d855e9acc",
   "metadata": {},
   "outputs": [
    {
     "name": "stdout",
     "output_type": "stream",
     "text": [
      "\n",
      "The received message is:\n",
      "Hello\n"
     ]
    }
   ],
   "source": [
    "new_bin_str = listToBinary(decoded)\n",
    "new_message = binaryToMessage(new_bin_str)\n",
    "print(\"\\nThe received message is:\")\n",
    "print(new_message)"
   ]
  }
 ],
 "metadata": {
  "kernelspec": {
   "display_name": "Python 3 (ipykernel)",
   "language": "python",
   "name": "python3"
  },
  "language_info": {
   "codemirror_mode": {
    "name": "ipython",
    "version": 3
   },
   "file_extension": ".py",
   "mimetype": "text/x-python",
   "name": "python",
   "nbconvert_exporter": "python",
   "pygments_lexer": "ipython3",
   "version": "3.10.8"
  }
 },
 "nbformat": 4,
 "nbformat_minor": 5
}
